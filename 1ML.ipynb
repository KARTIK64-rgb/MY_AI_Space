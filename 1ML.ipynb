{
 "cells": [
  {
   "cell_type": "code",
   "execution_count": null,
   "metadata": {
    "id": "VbrnwM4_EpwS"
   },
   "outputs": [],
   "source": [
    "import pandas as pd\n",
    "import numpy as np\n",
    "import matplotlib.pyplot as plt\n",
    "import seaborn as sns"
   ]
  },
  {
   "cell_type": "code",
   "execution_count": null,
   "metadata": {
    "id": "30qvo2NWE3Wq"
   },
   "outputs": [],
   "source": [
    "df= pd.read_csv('/content/Titanic-Dataset.csv')  #path of the csv file"
   ]
  },
  {
   "cell_type": "markdown",
   "metadata": {
    "id": "lPsC2mm6TTaw"
   },
   "source": [
    "# Understanding the data"
   ]
  },
  {
   "cell_type": "code",
   "execution_count": null,
   "metadata": {
    "colab": {
     "base_uri": "https://localhost:8080/"
    },
    "executionInfo": {
     "elapsed": 14,
     "status": "ok",
     "timestamp": 1720860561363,
     "user": {
      "displayName": "Kartik Gupta",
      "userId": "01345756996933378650"
     },
     "user_tz": -330
    },
    "id": "-Oi68ROdG7v4",
    "outputId": "2f426b86-cf7e-4821-af8c-5b351f19bbfe"
   },
   "outputs": [],
   "source": [
    "df.shape"
   ]
  },
  {
   "cell_type": "code",
   "execution_count": null,
   "metadata": {
    "colab": {
     "base_uri": "https://localhost:8080/",
     "height": 258
    },
    "executionInfo": {
     "elapsed": 12,
     "status": "ok",
     "timestamp": 1720860561363,
     "user": {
      "displayName": "Kartik Gupta",
      "userId": "01345756996933378650"
     },
     "user_tz": -330
    },
    "id": "XBrfvBSIHEMc",
    "outputId": "76592372-6eb8-45c2-cc59-9b7c8d373a23"
   },
   "outputs": [],
   "source": [
    "df.head() #first 5 rows of the dataset"
   ]
  },
  {
   "cell_type": "code",
   "execution_count": null,
   "metadata": {
    "colab": {
     "base_uri": "https://localhost:8080/",
     "height": 206
    },
    "executionInfo": {
     "elapsed": 29,
     "status": "ok",
     "timestamp": 1720860562229,
     "user": {
      "displayName": "Kartik Gupta",
      "userId": "01345756996933378650"
     },
     "user_tz": -330
    },
    "id": "AFq4brWmJwWL",
    "outputId": "a1128017-0be3-4c61-a489-4a05046a5183"
   },
   "outputs": [],
   "source": [
    "df.sample(5) # prints random dataset"
   ]
  },
  {
   "cell_type": "code",
   "execution_count": null,
   "metadata": {
    "colab": {
     "base_uri": "https://localhost:8080/"
    },
    "executionInfo": {
     "elapsed": 28,
     "status": "ok",
     "timestamp": 1720860562229,
     "user": {
      "displayName": "Kartik Gupta",
      "userId": "01345756996933378650"
     },
     "user_tz": -330
    },
    "id": "hHRsXSUBJ9AV",
    "outputId": "b5c370b4-f4dc-47de-f92b-9073bbefa76c"
   },
   "outputs": [],
   "source": [
    "df.info() # data about the columns\n",
    "# we can clearly see that there are many missing values like in age put of 891 values only 714 values are present"
   ]
  },
  {
   "cell_type": "code",
   "execution_count": null,
   "metadata": {
    "colab": {
     "base_uri": "https://localhost:8080/"
    },
    "executionInfo": {
     "elapsed": 28,
     "status": "ok",
     "timestamp": 1720860562230,
     "user": {
      "displayName": "Kartik Gupta",
      "userId": "01345756996933378650"
     },
     "user_tz": -330
    },
    "id": "f4ya70MIKMsj",
    "outputId": "a0b9fc13-80e2-4134-d7f9-0c27c74060af"
   },
   "outputs": [],
   "source": [
    "df.isnull().sum() # total number of missing values in each column"
   ]
  },
  {
   "cell_type": "code",
   "execution_count": null,
   "metadata": {
    "colab": {
     "base_uri": "https://localhost:8080/",
     "height": 300
    },
    "executionInfo": {
     "elapsed": 25,
     "status": "ok",
     "timestamp": 1720860562230,
     "user": {
      "displayName": "Kartik Gupta",
      "userId": "01345756996933378650"
     },
     "user_tz": -330
    },
    "id": "OTYs5iorMFgP",
    "outputId": "a05e9e6c-f0f4-4cdf-e0cd-657ef3bbce81"
   },
   "outputs": [],
   "source": [
    "df.describe() # tell about the mathematically data of numerical data"
   ]
  },
  {
   "cell_type": "code",
   "execution_count": null,
   "metadata": {
    "colab": {
     "base_uri": "https://localhost:8080/"
    },
    "executionInfo": {
     "elapsed": 24,
     "status": "ok",
     "timestamp": 1720860562230,
     "user": {
      "displayName": "Kartik Gupta",
      "userId": "01345756996933378650"
     },
     "user_tz": -330
    },
    "id": "bObYT4WBMXB6",
    "outputId": "6242b3ca-7631-474c-87cf-8eda6b97143d"
   },
   "outputs": [],
   "source": [
    "df.duplicated().sum() #total no of dublicates values"
   ]
  },
  {
   "cell_type": "markdown",
   "metadata": {
    "id": "s8srNP2GR_zC"
   },
   "source": [
    "# EDA Univariate\n",
    "#1.Categorical dataset"
   ]
  },
  {
   "cell_type": "markdown",
   "metadata": {
    "id": "xvpekirOSczl"
   },
   "source": [
    "**a. countplot**"
   ]
  },
  {
   "cell_type": "markdown",
   "metadata": {
    "id": "03yAl6SRvaOy"
   },
   "source": []
  },
  {
   "cell_type": "code",
   "execution_count": null,
   "metadata": {
    "colab": {
     "base_uri": "https://localhost:8080/",
     "height": 518
    },
    "executionInfo": {
     "elapsed": 22,
     "status": "ok",
     "timestamp": 1720860562230,
     "user": {
      "displayName": "Kartik Gupta",
      "userId": "01345756996933378650"
     },
     "user_tz": -330
    },
    "id": "0Ncq6RemSmgE",
    "outputId": "2acc153d-2e1f-46b1-8562-0267a39e354c"
   },
   "outputs": [],
   "source": [
    "# lets say survied or pclass is a categorical data( data that has significance value)\n",
    "sns.countplot(x='Survived',data=df)  #sns.countplot(df['Survived])  for jupyter notebook\n",
    "df['Survived'].value_counts()"
   ]
  },
  {
   "cell_type": "code",
   "execution_count": null,
   "metadata": {
    "colab": {
     "base_uri": "https://localhost:8080/",
     "height": 536
    },
    "executionInfo": {
     "elapsed": 1067,
     "status": "ok",
     "timestamp": 1720860563276,
     "user": {
      "displayName": "Kartik Gupta",
      "userId": "01345756996933378650"
     },
     "user_tz": -330
    },
    "id": "zcRTZO35Vse2",
    "outputId": "1d429150-f908-423e-9341-0e20af6b0246"
   },
   "outputs": [],
   "source": [
    "# we can also see for the p class\n",
    "sns.countplot(x='Pclass',data=df)\n",
    "df['Pclass'].value_counts()"
   ]
  },
  {
   "cell_type": "code",
   "execution_count": null,
   "metadata": {
    "colab": {
     "base_uri": "https://localhost:8080/",
     "height": 423
    },
    "executionInfo": {
     "elapsed": 22,
     "status": "ok",
     "timestamp": 1720860563277,
     "user": {
      "displayName": "Kartik Gupta",
      "userId": "01345756996933378650"
     },
     "user_tz": -330
    },
    "id": "KuXyTp2qbcD7",
    "outputId": "6b65a653-5acd-4490-cc33-166efa67177f"
   },
   "outputs": [],
   "source": [
    "df['Survived'].value_counts().plot(kind='pie',autopct='%1.1f%%')"
   ]
  },
  {
   "cell_type": "markdown",
   "metadata": {
    "id": "JqPSEIwLPqnt"
   },
   "source": [
    "#  2.Numerical data\n",
    "a.Histogram"
   ]
  },
  {
   "cell_type": "code",
   "execution_count": null,
   "metadata": {
    "colab": {
     "base_uri": "https://localhost:8080/",
     "height": 499
    },
    "executionInfo": {
     "elapsed": 19,
     "status": "ok",
     "timestamp": 1720860563277,
     "user": {
      "displayName": "Kartik Gupta",
      "userId": "01345756996933378650"
     },
     "user_tz": -330
    },
    "id": "m4ca_aO1P0bD",
    "outputId": "d3e24cfc-e55f-4d41-893d-1f6f14036340"
   },
   "outputs": [],
   "source": [
    "plt.hist(df['Age'])"
   ]
  },
  {
   "cell_type": "markdown",
   "metadata": {
    "id": "vfINxPGcbhHe"
   },
   "source": [
    "**b.distplot**"
   ]
  },
  {
   "cell_type": "code",
   "execution_count": null,
   "metadata": {
    "colab": {
     "base_uri": "https://localhost:8080/",
     "height": 657
    },
    "executionInfo": {
     "elapsed": 851,
     "status": "ok",
     "timestamp": 1720860564111,
     "user": {
      "displayName": "Kartik Gupta",
      "userId": "01345756996933378650"
     },
     "user_tz": -330
    },
    "id": "FYzmUZYLafq5",
    "outputId": "9b2bebf7-de30-446f-8845-1047f7c1860f"
   },
   "outputs": [],
   "source": [
    "sns.distplot(df['Age']) # y axis is about the probability"
   ]
  },
  {
   "cell_type": "code",
   "execution_count": null,
   "metadata": {
    "colab": {
     "base_uri": "https://localhost:8080/",
     "height": 428
    },
    "executionInfo": {
     "elapsed": 1134,
     "status": "ok",
     "timestamp": 1720860565232,
     "user": {
      "displayName": "Kartik Gupta",
      "userId": "01345756996933378650"
     },
     "user_tz": -330
    },
    "id": "_ckM-3nZba62",
    "outputId": "e54e3092-7932-43ae-c3ce-f1937f9dc05d"
   },
   "outputs": [],
   "source": [
    "sns.boxplot(df['Age']) #outliers are nearly 70-80"
   ]
  },
  {
   "cell_type": "code",
   "execution_count": null,
   "metadata": {
    "colab": {
     "base_uri": "https://localhost:8080/"
    },
    "executionInfo": {
     "elapsed": 24,
     "status": "ok",
     "timestamp": 1720860565232,
     "user": {
      "displayName": "Kartik Gupta",
      "userId": "01345756996933378650"
     },
     "user_tz": -330
    },
    "id": "dYuD-SHtcpFq",
    "outputId": "4f49b3fd-1524-4706-e7f1-484d9355afe4"
   },
   "outputs": [],
   "source": [
    "df['Age'].skew() #zero skewness means the data is equal between the both side of the peek"
   ]
  },
  {
   "cell_type": "markdown",
   "metadata": {
    "id": "NXpiJXiygccH"
   },
   "source": [
    "# EDA Bivariate"
   ]
  },
  {
   "cell_type": "code",
   "execution_count": null,
   "metadata": {
    "id": "90HFN7mUg4MN"
   },
   "outputs": [],
   "source": [
    " tips =sns.load_dataset('tips')"
   ]
  },
  {
   "cell_type": "code",
   "execution_count": null,
   "metadata": {
    "colab": {
     "base_uri": "https://localhost:8080/",
     "height": 206
    },
    "executionInfo": {
     "elapsed": 23,
     "status": "ok",
     "timestamp": 1720860565232,
     "user": {
      "displayName": "Kartik Gupta",
      "userId": "01345756996933378650"
     },
     "user_tz": -330
    },
    "id": "nsuV4sKPDdOe",
    "outputId": "5a9164f4-6cb3-47a3-a711-12bd4df71149"
   },
   "outputs": [],
   "source": [
    "tips.head()"
   ]
  },
  {
   "cell_type": "code",
   "execution_count": null,
   "metadata": {
    "id": "Ubdx0JYDEVrj"
   },
   "outputs": [],
   "source": [
    "flights=sns.load_dataset('flights')"
   ]
  },
  {
   "cell_type": "code",
   "execution_count": null,
   "metadata": {
    "colab": {
     "base_uri": "https://localhost:8080/",
     "height": 206
    },
    "executionInfo": {
     "elapsed": 23,
     "status": "ok",
     "timestamp": 1720860565233,
     "user": {
      "displayName": "Kartik Gupta",
      "userId": "01345756996933378650"
     },
     "user_tz": -330
    },
    "id": "AAWXgxD-KLiB",
    "outputId": "e8bd1275-55d4-41b3-cb29-aebeb2223ffb"
   },
   "outputs": [],
   "source": [
    "flights.head()"
   ]
  },
  {
   "cell_type": "code",
   "execution_count": null,
   "metadata": {
    "id": "MMW-PtL1EXZ6"
   },
   "outputs": [],
   "source": [
    "iris=sns.load_dataset('iris')"
   ]
  },
  {
   "cell_type": "code",
   "execution_count": null,
   "metadata": {
    "colab": {
     "base_uri": "https://localhost:8080/",
     "height": 206
    },
    "executionInfo": {
     "elapsed": 23,
     "status": "ok",
     "timestamp": 1720860565233,
     "user": {
      "displayName": "Kartik Gupta",
      "userId": "01345756996933378650"
     },
     "user_tz": -330
    },
    "id": "2IYldS0mKQVt",
    "outputId": "1ffa6a7a-321b-4b1d-b3a7-38203cbacf09"
   },
   "outputs": [],
   "source": [
    "iris.head()"
   ]
  },
  {
   "cell_type": "markdown",
   "metadata": {
    "id": "Ep2awS3UG-Lv"
   },
   "source": [
    "# 1.scatter plot (numerical - numerical)"
   ]
  },
  {
   "cell_type": "code",
   "execution_count": null,
   "metadata": {
    "colab": {
     "base_uri": "https://localhost:8080/",
     "height": 467
    },
    "executionInfo": {
     "elapsed": 1216,
     "status": "ok",
     "timestamp": 1720860566427,
     "user": {
      "displayName": "Kartik Gupta",
      "userId": "01345756996933378650"
     },
     "user_tz": -330
    },
    "id": "VtEmzyYdHbwd",
    "outputId": "9f207786-239e-493e-c92c-a0db2c53343a"
   },
   "outputs": [],
   "source": [
    "sns.scatterplot(x='total_bill',y='tip', hue='sex', style ='smoker', size= 'size',data=tips) # additional colunms information"
   ]
  },
  {
   "cell_type": "markdown",
   "metadata": {
    "id": "yL5CLg52MzL3"
   },
   "source": [
    "# 2.Bar Plot (Numerical-Categorical)\n",
    " box plot also the part of it"
   ]
  },
  {
   "cell_type": "code",
   "execution_count": null,
   "metadata": {
    "colab": {
     "base_uri": "https://localhost:8080/",
     "height": 466
    },
    "executionInfo": {
     "elapsed": 18,
     "status": "ok",
     "timestamp": 1720860566428,
     "user": {
      "displayName": "Kartik Gupta",
      "userId": "01345756996933378650"
     },
     "user_tz": -330
    },
    "id": "ZUTiqhpMM9_k",
    "outputId": "ea67cdc8-a2e7-42a9-85e9-8a6b5922bc5b"
   },
   "outputs": [],
   "source": [
    "sns.barplot(x='Pclass',y='Age',hue='Sex',data=df)"
   ]
  },
  {
   "cell_type": "markdown",
   "metadata": {
    "id": "ab9CYiUmREub"
   },
   "source": [
    "# Distplot(Numerical-Categorical)"
   ]
  },
  {
   "cell_type": "code",
   "execution_count": null,
   "metadata": {
    "colab": {
     "base_uri": "https://localhost:8080/",
     "height": 466
    },
    "executionInfo": {
     "elapsed": 1557,
     "status": "ok",
     "timestamp": 1720860567969,
     "user": {
      "displayName": "Kartik Gupta",
      "userId": "01345756996933378650"
     },
     "user_tz": -330
    },
    "id": "R_94aq9NRNcD",
    "outputId": "b729a084-ed36-462c-f301-50d6301bd88d"
   },
   "outputs": [],
   "source": [
    "sns.histplot(df[df['Survived']==0]['Age'],kde=True, stat=\"density\", linewidth=0,fill=False) # blue line indicates the probability of not surviving\n",
    "sns.histplot(df[df['Survived']==1]['Age'],kde=True, stat=\"density\", linewidth=0,fill=False)"
   ]
  },
  {
   "cell_type": "markdown",
   "metadata": {
    "id": "fw_GE0sMP7aQ"
   },
   "source": [
    "# HeatMap(categorical-categorical)"
   ]
  },
  {
   "cell_type": "code",
   "execution_count": null,
   "metadata": {
    "colab": {
     "base_uri": "https://localhost:8080/",
     "height": 175
    },
    "executionInfo": {
     "elapsed": 40,
     "status": "ok",
     "timestamp": 1720860567969,
     "user": {
      "displayName": "Kartik Gupta",
      "userId": "01345756996933378650"
     },
     "user_tz": -330
    },
    "id": "cqEjR7_bQE9z",
    "outputId": "cc63d406-e4bf-4880-d289-ece1ddb9e2b4"
   },
   "outputs": [],
   "source": [
    "(pd.crosstab(df['Pclass'],df['Survived']))"
   ]
  },
  {
   "cell_type": "code",
   "execution_count": null,
   "metadata": {
    "colab": {
     "base_uri": "https://localhost:8080/",
     "height": 466
    },
    "executionInfo": {
     "elapsed": 37,
     "status": "ok",
     "timestamp": 1720860567969,
     "user": {
      "displayName": "Kartik Gupta",
      "userId": "01345756996933378650"
     },
     "user_tz": -330
    },
    "id": "cLLiCcySU2LL",
    "outputId": "d9425200-4b27-461e-9b5a-4511d424c274"
   },
   "outputs": [],
   "source": [
    "sns.heatmap(pd.crosstab(df['Pclass'],df['Survived']))"
   ]
  },
  {
   "cell_type": "code",
   "execution_count": null,
   "metadata": {
    "id": "vR4DVt3RU0Ka"
   },
   "outputs": [],
   "source": [
    " #(df.groupby('Pclass').mean()['Survived']*100)"
   ]
  },
  {
   "cell_type": "markdown",
   "metadata": {
    "id": "jG6fFQFkXAnC"
   },
   "source": [
    "#Cluster map(categorical-categorical)"
   ]
  },
  {
   "cell_type": "code",
   "execution_count": null,
   "metadata": {
    "colab": {
     "base_uri": "https://localhost:8080/",
     "height": 300
    },
    "executionInfo": {
     "elapsed": 33,
     "status": "ok",
     "timestamp": 1720860567969,
     "user": {
      "displayName": "Kartik Gupta",
      "userId": "01345756996933378650"
     },
     "user_tz": -330
    },
    "id": "8gsyJVaEXNcZ",
    "outputId": "288fa6e1-8796-4116-900c-910c9133c5d4"
   },
   "outputs": [],
   "source": [
    "pd.crosstab(df['SibSp'],df['Survived'])"
   ]
  },
  {
   "cell_type": "markdown",
   "metadata": {
    "id": "wWheCAqEP5-Z"
   },
   "source": []
  },
  {
   "cell_type": "code",
   "execution_count": null,
   "metadata": {
    "colab": {
     "base_uri": "https://localhost:8080/",
     "height": 1000
    },
    "executionInfo": {
     "elapsed": 31,
     "status": "ok",
     "timestamp": 1720860567969,
     "user": {
      "displayName": "Kartik Gupta",
      "userId": "01345756996933378650"
     },
     "user_tz": -330
    },
    "id": "8vzmK0AoX-Va",
    "outputId": "1ec833a1-30d8-4ecc-de02-821f4e609544"
   },
   "outputs": [],
   "source": [
    "sns.clustermap(pd.crosstab(df['SibSp'],df['Survived']))"
   ]
  },
  {
   "cell_type": "markdown",
   "metadata": {
    "id": "r6wY9o7OYxXL"
   },
   "source": [
    "# Pair plot (gives all combination of numerical data)"
   ]
  },
  {
   "cell_type": "code",
   "execution_count": null,
   "metadata": {
    "colab": {
     "base_uri": "https://localhost:8080/",
     "height": 206
    },
    "executionInfo": {
     "elapsed": 21,
     "status": "ok",
     "timestamp": 1720860567970,
     "user": {
      "displayName": "Kartik Gupta",
      "userId": "01345756996933378650"
     },
     "user_tz": -330
    },
    "id": "MT5jW-8watYv",
    "outputId": "1b0b0a6d-c19a-42fc-c102-16e8a0fe2f62"
   },
   "outputs": [],
   "source": [
    "iris.head()"
   ]
  },
  {
   "cell_type": "code",
   "execution_count": null,
   "metadata": {
    "colab": {
     "base_uri": "https://localhost:8080/",
     "height": 1000
    },
    "executionInfo": {
     "elapsed": 7698,
     "status": "ok",
     "timestamp": 1720860575649,
     "user": {
      "displayName": "Kartik Gupta",
      "userId": "01345756996933378650"
     },
     "user_tz": -330
    },
    "id": "tsYturSdZRPH",
    "outputId": "0d1de029-44ff-4d7c-8d42-6864ac94cbdd"
   },
   "outputs": [],
   "source": [
    "sns.pairplot(iris,hue='species')"
   ]
  },
  {
   "cell_type": "markdown",
   "metadata": {
    "id": "4yul9aN-bSyo"
   },
   "source": [
    "# Line plot (generally used when on x axis time based functions)"
   ]
  },
  {
   "cell_type": "code",
   "execution_count": null,
   "metadata": {
    "colab": {
     "base_uri": "https://localhost:8080/"
    },
    "executionInfo": {
     "elapsed": 11378,
     "status": "ok",
     "timestamp": 1720860587012,
     "user": {
      "displayName": "Kartik Gupta",
      "userId": "01345756996933378650"
     },
     "user_tz": -330
    },
    "id": "okTkF5_HZT0c",
    "outputId": "095a2de2-66d0-4d57-90c1-9b89502437c1"
   },
   "outputs": [],
   "source": [
    "!pip install ydata_profiling"
   ]
  },
  {
   "cell_type": "code",
   "execution_count": null,
   "metadata": {
    "colab": {
     "base_uri": "https://localhost:8080/",
     "height": 200,
     "referenced_widgets": [
      "0c53089dd0eb43789c7c33def878dfdf",
      "fc312b3451cb4bfc866454170efaacfc",
      "fda4e0c339a34dbc9e91a304f61c8875",
      "0a197f366478421e98108ef60bfa6664",
      "09ab38c15c6a4f1ea1abdf86bcdcceca",
      "88689e031fdc492096588d32b9d9cb7e",
      "016b2540f74943bea21b2e61f63b12ba",
      "242e884e9aa44919b1155dd28ad00702",
      "d14c4583823a49a7b21f288de4148240",
      "d948e8afa7384416b51d79d0e8f298fc",
      "ab159683bdda4c659c9fb367a3df8a88",
      "579177f007524344b5fe6a35e9bb219c",
      "bf37784f3dbd46db824586baedb422d8",
      "8aa8b2d177274a899245a1253c52a46c",
      "c29c058011b24100981101ca4bb6adbe",
      "25c60ef1416a44ad93d6ffc321e235f0",
      "292dd026e30d40738b9ae43dc8dd5dab",
      "f160501cd8644d99ba7b6d906894096a",
      "2bee0dcb7c3d44999cea472bfb2a903f",
      "ae843b0a3161444dad6514d49a5d694a",
      "fec96c6a897740dca424c83a4deca1f9",
      "f6d53eddc0ef42268b7b7a18a8b8be4c",
      "35f666e40e304c71a40d174cb4dab146",
      "6b7728fcbf164f0f911f9b8e7e58e808",
      "94430801de1d42b2b2ffd956b3247557",
      "d842453d4bda4304811fbc0b85d9351c",
      "c087559dc940440cb284627b94900ea8",
      "93c3c23a732a43f8a90b945eda223060",
      "ab4d4a82ca8442339b2c8bc54f5d9347",
      "ead3dae1bc314c7d9517a05c3e0ac2d1",
      "e38872c59acc425d89aedab68a1f8ae1",
      "fbff6894d8384c06a21dd4c7c3f40eb1",
      "8b1887aee6bb40b0ba8f159e3a413e18",
      "72b624e00f024b21b3223425ea21f297",
      "b3c5d7850e024e0684485a6a4ba9a456",
      "075b0ff8ac0943a99cd3aaf490492a95",
      "e395f631738f4c7fb0e1dea925ac97ca",
      "93eaf0b0dd1a4e71baf19a83bd4b25d5",
      "8343c470321b4ab496ebd7b9fa69e100",
      "f43bcca1e0174013b85b976f82d71c6a",
      "fa8a189065df4393a883893778dc7bb4",
      "211e566e97b745468e9695594a486068",
      "4ee2f84ba6aa43d0ae1c902fcc3dcc31",
      "08f87c0a4ccd49a0bdeebb4fb3b04d7e"
     ]
    },
    "executionInfo": {
     "elapsed": 49816,
     "status": "ok",
     "timestamp": 1720860636801,
     "user": {
      "displayName": "Kartik Gupta",
      "userId": "01345756996933378650"
     },
     "user_tz": -330
    },
    "id": "PQw0V5_mdmyR",
    "outputId": "adc1ee3a-6a63-407f-f3c7-6df566eed787"
   },
   "outputs": [],
   "source": [
    "from ydata_profiling import ProfileReport\n",
    "prof = ProfileReport(df)\n",
    "prof.to_file(output_file='output.html')"
   ]
  }
 ],
 "metadata": {
  "colab": {
   "authorship_tag": "ABX9TyOnI3w4xFsY+8R7leMUrlcY",
   "provenance": []
  },
  "kernelspec": {
   "display_name": "Python 3",
   "name": "python3"
  },
  "language_info": {
   "name": "python"
  }
 },
 "nbformat": 4,
 "nbformat_minor": 0
}
